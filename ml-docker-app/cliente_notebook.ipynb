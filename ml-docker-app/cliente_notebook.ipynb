{
 "cells": [
  {
   "cell_type": "code",
   "execution_count": 27,
   "metadata": {},
   "outputs": [
    {
     "name": "stdout",
     "output_type": "stream",
     "text": [
      "{'prediction': 1.0}\n"
     ]
    }
   ],
   "source": [
    "import base64\n",
    "from PIL import Image\n",
    "import requests\n",
    "import io\n",
    "\n",
    "# Carregar a imagem de teste\n",
    "image_path = '/workspaces/mba-deeplearning-iad-006-2024-public/imagens/imagem_negativa.png'\n",
    "image = Image.open(image_path).resize((8,8))\n",
    "\n",
    "# Converter a imagem para bytes\n",
    "img_byte_arr = io.BytesIO()\n",
    "image.save(img_byte_arr, format='PNG')\n",
    "img_byte_arr = base64.b64encode(img_byte_arr.getvalue()).decode('utf-8')\n",
    "\n",
    "url = 'http://localhost:8000/predict'\n",
    "response = requests.post(url, json={'image':img_byte_arr})\n",
    "\n",
    "print(response.json())\n"
   ]
  },
  {
   "cell_type": "code",
   "execution_count": null,
   "metadata": {},
   "outputs": [],
   "source": []
  }
 ],
 "metadata": {
  "kernelspec": {
   "display_name": "Python 3",
   "language": "python",
   "name": "python3"
  },
  "language_info": {
   "codemirror_mode": {
    "name": "ipython",
    "version": 3
   },
   "file_extension": ".py",
   "mimetype": "text/x-python",
   "name": "python",
   "nbconvert_exporter": "python",
   "pygments_lexer": "ipython3",
   "version": "3.12.1"
  }
 },
 "nbformat": 4,
 "nbformat_minor": 2
}
